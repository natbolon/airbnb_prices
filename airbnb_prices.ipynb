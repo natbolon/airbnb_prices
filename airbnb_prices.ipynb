{
 "cells": [
  {
   "cell_type": "markdown",
   "metadata": {},
   "source": [
    "# Airbnb NYC 2019\n"
   ]
  },
  {
   "cell_type": "code",
   "execution_count": null,
   "metadata": {},
   "outputs": [],
   "source": [
    "import pandas as pd\n",
    "import numpy as np\n",
    "\n",
    "import sklearn\n",
    "from sklearn.preprocessing import StandardScaler\n",
    "from sklearn.model_selection import train_test_split\n",
    "\n",
    "import matplotlib as mpl\n",
    "import matplotlib.pyplot as plt\n",
    "import seaborn as sns\n",
    "mpl.rcParams['font.size'] = 12\n",
    "mpl.rcParams['axes.labelsize'] = 10"
   ]
  },
  {
   "cell_type": "markdown",
   "metadata": {},
   "source": [
    "Load data and perform first exploration"
   ]
  },
  {
   "cell_type": "code",
   "execution_count": null,
   "metadata": {},
   "outputs": [],
   "source": [
    "df_airbnb = pd.read_csv('./Data/AB_NYC_2019.csv')"
   ]
  },
  {
   "cell_type": "code",
   "execution_count": null,
   "metadata": {},
   "outputs": [],
   "source": [
    "df_airbnb.head()"
   ]
  },
  {
   "cell_type": "code",
   "execution_count": null,
   "metadata": {},
   "outputs": [],
   "source": [
    "print('Number of entries: {} \\nNumber of features: {}'.format(df_airbnb.shape[0], df_airbnb.shape[1]))"
   ]
  },
  {
   "cell_type": "markdown",
   "metadata": {},
   "source": [
    "A first look suggests that columns such as **id**, **name**, **host_id** and **host_name** can be discarded from the analysis. \n",
    "\n",
    "The column **name** could be used to incorporate some more features (keywords appearing in the name). This would be discarded on the first simple models."
   ]
  },
  {
   "cell_type": "code",
   "execution_count": null,
   "metadata": {},
   "outputs": [],
   "source": [
    "# drop features id, host_id and host_name\n",
    "df_airbnb.drop(['id', 'name', 'host_id', 'host_name'], axis=1, inplace=True)"
   ]
  },
  {
   "cell_type": "markdown",
   "metadata": {},
   "source": [
    "Now we will look for missing data on the remaining features"
   ]
  },
  {
   "cell_type": "code",
   "execution_count": null,
   "metadata": {},
   "outputs": [],
   "source": [
    "df_airbnb.isnull().sum()"
   ]
  },
  {
   "cell_type": "markdown",
   "metadata": {},
   "source": [
    "We have missing data for the following features:\n",
    "* last_review --> comes from entries without any review\n",
    "* reviews_per_month --> comes from entries without any review; we will replace it by 0"
   ]
  },
  {
   "cell_type": "code",
   "execution_count": null,
   "metadata": {},
   "outputs": [],
   "source": [
    "# replace NaN by 0 for column reviews per month\n",
    "df_airbnb.reviews_per_month.fillna(0, inplace=True)"
   ]
  },
  {
   "cell_type": "markdown",
   "metadata": {},
   "source": [
    "So far we have 12 columns, 11 of them corresponding to features and 1 corresponding to our target variable, price. \n",
    "\n",
    "First we will start by taking a look to the price to see its distribution and check there are no inconsistencies.\n",
    "\n",
    "Then we will explore the features and their distributions and correlation among them. We can expect high correlation between:\n",
    "* neighbourhood_group, neighbourhood, latitude and longitude\n",
    "* number_of_reviews and reviews_per_month (can also be related with last_review)"
   ]
  },
  {
   "cell_type": "markdown",
   "metadata": {},
   "source": [
    "### Exploration of price"
   ]
  },
  {
   "cell_type": "code",
   "execution_count": null,
   "metadata": {},
   "outputs": [],
   "source": [
    "f, ax = plt.subplots(1, 2, figsize=(15,5))\n",
    "df_airbnb['price'].plot(kind='hist', bins=80, title='Price distribution', ax=ax[0])\n",
    "df_airbnb['price'].plot(kind='hist', bins=80,logx=True, logy=True, title='Price distribution', ax=ax[1])\n",
    "ax[0].set_xlabel('Price $')\n",
    "ax[1].set_xlabel('Log Price $')\n",
    "plt.show()"
   ]
  },
  {
   "cell_type": "code",
   "execution_count": null,
   "metadata": {},
   "outputs": [],
   "source": [
    "df_airbnb['price'].describe()"
   ]
  },
  {
   "cell_type": "code",
   "execution_count": null,
   "metadata": {},
   "outputs": [],
   "source": [
    "print('Number of cases with price = $0: ',len(df_airbnb[df_airbnb.price == 0]))"
   ]
  },
  {
   "cell_type": "code",
   "execution_count": null,
   "metadata": {},
   "outputs": [],
   "source": [
    "# drop cases with price 0\n",
    "df_airbnb.drop(df_airbnb[df_airbnb.price < 10]. index, axis=0, inplace=True)"
   ]
  },
  {
   "cell_type": "code",
   "execution_count": null,
   "metadata": {},
   "outputs": [],
   "source": [
    "def print_pct_price(attribute, value):\n",
    "    print('Appartments with {} over ${}: {:.2f}%'.\\\n",
    "          format(attribute, \\\n",
    "                 value, \\\n",
    "                 100 * len(df_airbnb[df_airbnb[attribute] > value])/len(df_airbnb)))\n",
    "\n",
    "print_pct_price('price', 200)\n",
    "print_pct_price('price', 300)\n",
    "print_pct_price('price', 500)\n",
    "print_pct_price('price', 1000)"
   ]
  },
  {
   "cell_type": "code",
   "execution_count": null,
   "metadata": {},
   "outputs": [],
   "source": [
    "f, ax = plt.subplots(1, 2, figsize=(15,5))\n",
    "df_airbnb[df_airbnb['price'] <= 400].price.plot(kind='hist', bins=100,title='Price distribution below $300', ax=ax[0])\n",
    "df_airbnb[df_airbnb['price'] > 400].price.plot(kind='hist', bins=100, title='Price distribution above $300', ax=ax[1])\n",
    "ax[0].set_xlabel('Price $')\n",
    "ax[1].set_xlabel('Price $')\n",
    "plt.show()\n"
   ]
  },
  {
   "cell_type": "markdown",
   "metadata": {},
   "source": [
    "Insights: \n",
    "* Mean price is \\\\$153 and median price is \\\\$106. This reflects large outliers that increase the mean price.\n",
    "* Min price is \\\\$0 while max price is \\\\$10k. We will drop the cases with price = \\\\$0 since they may correspond to errors.\n",
    "* Around 95% of the appartments have a price lower than \\\\$300. From these, a good amount concentrate in a range lower than \\\\$100. We can also observe some peaks around round prices (100, 150, etc.)\n",
    "* Appartments over \\\\$1k represent less than 0.5\\% of the cases."
   ]
  },
  {
   "cell_type": "markdown",
   "metadata": {},
   "source": [
    "### Exploration of features\n",
    "\n",
    "The features **neighbourhood** is left out of the plot due to the large number of possible values. The feature **last_review** is left out of the plot since we cannot relate it to the date when the prices were retrieved."
   ]
  },
  {
   "cell_type": "code",
   "execution_count": null,
   "metadata": {},
   "outputs": [],
   "source": [
    "f, ax = plt.subplots(3,3, figsize=(40,30))\n",
    "ax = ax.flatten()\n",
    "for idx, col in enumerate(df_airbnb.drop(['neighbourhood', 'price', 'last_review'], axis=1).columns):\n",
    "    if df_airbnb[col].dtype == object:\n",
    "        df_airbnb.groupby(col).count().iloc[:,1].plot(kind='bar', ax=ax[idx], title=col)\n",
    "        ax[idx].tick_params(axis='x', rotation=0)\n",
    "    else:\n",
    "        df_airbnb[col].plot(kind='hist', bins=50, ax=ax[idx], title=col)"
   ]
  },
  {
   "cell_type": "markdown",
   "metadata": {},
   "source": [
    "Insights: \n",
    "* Neighbourhood: Brooklyn and Manhattan are the most represented ones.\n",
    "* Most locations offered are entire appartments or private rooms. Shared rooms are very rare.\n",
    "* Number of reviews and reviews per month seem to follow a Poisson distribution.\n",
    "* Minimum nights and host listing count may offer more insights when taking logarithm of the values. \n",
    "* Availability is highly concentrated aroud 1 and then there is a great decrease for the rest of values."
   ]
  },
  {
   "cell_type": "markdown",
   "metadata": {},
   "source": [
    "#### Analysis per neighbourhood"
   ]
  },
  {
   "cell_type": "code",
   "execution_count": null,
   "metadata": {},
   "outputs": [],
   "source": [
    "df_airbnb.groupby('neighbourhood_group').agg({'neighbourhood':['count','nunique'], \n",
    "                                              'price':['min', 'mean', 'median', 'max'],\n",
    "                                             'number_of_reviews':['min', 'mean', 'median', 'max']})"
   ]
  },
  {
   "cell_type": "markdown",
   "metadata": {},
   "source": [
    "If we analyse by neighbourhood, we can highlight:\n",
    "* Manhattan is the one grouping less neighbourhoods with around 60% of the neighbourhoods that Queens groups (which is the one with the largest value).\n",
    "* In terms of price, they all have almost the same minimum price. Nevertheless, Manhattan shows a median price that is almost 3 times the median of the lowest price (Bronx). The maximum price at Bronx is 25% of the maximum at Manhattan, Brooklyn and Staten Island. \n",
    "* In terms of number of reviews, the median is much lower than the mean in all cases, showing the presence of large sporadic numbers and a great amount of low values."
   ]
  },
  {
   "cell_type": "code",
   "execution_count": null,
   "metadata": {},
   "outputs": [],
   "source": [
    "f, ax = plt.subplots(1,2, figsize=(20,5))\n",
    "ax = ax.flatten()\n",
    "\n",
    "sns.violinplot(data=df_airbnb[df_airbnb.price < 300], x='neighbourhood_group', y='price', ax=ax[0], \\\n",
    "               title='Price vs Neighbourhood')\n",
    "sns.violinplot(data=df_airbnb, x='neighbourhood_group', y='price', ax=ax[1], \\\n",
    "               title='Price vs Neighbourhood')\n",
    "plt.show()"
   ]
  },
  {
   "cell_type": "markdown",
   "metadata": {},
   "source": [
    "#### Analysis of correlation"
   ]
  },
  {
   "cell_type": "code",
   "execution_count": null,
   "metadata": {},
   "outputs": [],
   "source": [
    "#X = df_airbnb.drop(['price', 'neighbourhood', 'last_review'], axis=1)\n",
    "X = pd.get_dummies(df_airbnb.drop(['price', 'neighbourhood', 'last_review'], axis=1))\n"
   ]
  },
  {
   "cell_type": "code",
   "execution_count": null,
   "metadata": {},
   "outputs": [],
   "source": [
    "X = X.to_numpy()"
   ]
  },
  {
   "cell_type": "code",
   "execution_count": null,
   "metadata": {},
   "outputs": [],
   "source": []
  },
  {
   "cell_type": "code",
   "execution_count": null,
   "metadata": {},
   "outputs": [],
   "source": [
    "corr_matrix = np.corrcoef(X).round(decimals=2)\n",
    "corr_matrix"
   ]
  },
  {
   "cell_type": "markdown",
   "metadata": {},
   "source": [
    "#### Analysis type of room"
   ]
  },
  {
   "cell_type": "code",
   "execution_count": null,
   "metadata": {},
   "outputs": [],
   "source": [
    "f, ax = plt.subplots(1,2, figsize=(20,5))\n",
    "ax = ax.flatten()\n",
    "\n",
    "sns.violinplot(data=df_airbnb[df_airbnb.price < 500], x='room_type', y='price', ax=ax[0], \\\n",
    "               title='Price vs Neighbourhood')\n",
    "sns.violinplot(data=df_airbnb, x='room_type', y='price', ax=ax[1], \\\n",
    "               title='Price vs Neighbourhood')\n",
    "plt.show()"
   ]
  },
  {
   "cell_type": "markdown",
   "metadata": {},
   "source": [
    "#### Analysis minimum nights"
   ]
  },
  {
   "cell_type": "code",
   "execution_count": null,
   "metadata": {},
   "outputs": [],
   "source": [
    "ncode categorical variables with one-hot encoding\n"
   ]
  },
  {
   "cell_type": "code",
   "execution_count": null,
   "metadata": {},
   "outputs": [],
   "source": []
  },
  {
   "cell_type": "code",
   "execution_count": null,
   "metadata": {},
   "outputs": [],
   "source": []
  },
  {
   "cell_type": "code",
   "execution_count": null,
   "metadata": {},
   "outputs": [],
   "source": [
    "f, ax = plt.subplots(2,2, figsize=(20,12))\n",
    "ax = ax.flatten()\n",
    "\n",
    "df_airbnb.plot(kind='scatter', x='calculated_host_listings_count', y='price', ax=ax[0], \\\n",
    "               title='Price vs Number of properties per host')\n",
    "df_airbnb.plot(kind='scatter', x='number_of_reviews', y='price', ax=ax[1],\\\n",
    "              title='Price vs Number of reviews per property')\n",
    "df_airbnb.plot(kind='scatter', x='minimum_nights', y='price', ax=ax[2],\\\n",
    "              title='Price vs Number of min nights')\n",
    "df_airbnb.plot(kind='scatter', x='availability_365', y='price', ax=ax[3], \\\n",
    "              title='Price vs Availability')\n",
    "plt.show()"
   ]
  },
  {
   "cell_type": "markdown",
   "metadata": {},
   "source": [
    "We will use the neighbourhood group as categorical variable."
   ]
  },
  {
   "cell_type": "markdown",
   "metadata": {},
   "source": [
    "## TODO THINGS:\n",
    "\n",
    "* First models based on numerical and categorical data --> drop name, host_name\n"
   ]
  },
  {
   "cell_type": "code",
   "execution_count": null,
   "metadata": {},
   "outputs": [],
   "source": [
    "# drop features\n",
    "df_models = df_airbnb.drop(['name', 'neighbourhood', 'last_review'], axis=1)\n",
    "# convert categorical variables to one-hot encoding\n",
    "df_models = pd.get_dummies(df_models)"
   ]
  },
  {
   "cell_type": "code",
   "execution_count": null,
   "metadata": {},
   "outputs": [],
   "source": [
    "df_models.describe()"
   ]
  },
  {
   "cell_type": "code",
   "execution_count": null,
   "metadata": {},
   "outputs": [],
   "source": [
    "f, ax = plt.subplots(3,2,figsize=(20,14))\n",
    "ax = ax.flatten()\n",
    "df_models.minimum_nights.plot(kind='hist', ax=ax[0], bins=100, logx=True,\\\n",
    "                              logy=True, title='Distribution number of reviews')\n",
    "df_models.number_of_reviews.plot(kind='hist', ax=ax[1], bins=100, logx=True, \\\n",
    "                                 logy=True, title='Distribution number of reviews')\n",
    "df_models.reviews_per_month.plot(kind='hist', ax=ax[2], bins=100, logx=True,\n",
    "                                 logy=True, title='Distribution reviews per month')\n",
    "df_models.calculated_host_listings_count.plot(kind='hist', ax=ax[3], bins=100, logx=True,\\\n",
    "                                              logy=True, title='Distribution hosts listings')\n",
    "df_models.availability_365.plot(kind='hist', ax=ax[4], bins=100, title='Distribution availability')\n",
    "plt.show()"
   ]
  },
  {
   "cell_type": "code",
   "execution_count": null,
   "metadata": {},
   "outputs": [],
   "source": [
    "df_models.quantile(0.95)"
   ]
  },
  {
   "cell_type": "code",
   "execution_count": null,
   "metadata": {},
   "outputs": [],
   "source": []
  },
  {
   "cell_type": "code",
   "execution_count": null,
   "metadata": {},
   "outputs": [],
   "source": [
    "# create X and y matrices \n",
    "X = df_models.drop(['price'], axis=1).to_numpy()\n",
    "y = df_models['price'].to_numpy()"
   ]
  },
  {
   "cell_type": "code",
   "execution_count": null,
   "metadata": {},
   "outputs": [],
   "source": [
    "X_train, X_test, y_train, y_test = train_test_split(X, y, test_size=0.3, random_state=0)\n",
    "\n",
    "scaler = StandardScaler().fit(X_train)\n",
    "X_train_transformed = scaler.transform(X_train)\n",
    "X_test_transformed = scaler.transform(X_test)\n",
    "clf.score(X_test_transformed, y_test)"
   ]
  },
  {
   "cell_type": "code",
   "execution_count": null,
   "metadata": {},
   "outputs": [],
   "source": [
    "plt.plot(X_test_transformed[:,1])"
   ]
  },
  {
   "cell_type": "code",
   "execution_count": null,
   "metadata": {},
   "outputs": [],
   "source": []
  }
 ],
 "metadata": {
  "kernelspec": {
   "display_name": "Python 3",
   "language": "python",
   "name": "python3"
  },
  "language_info": {
   "codemirror_mode": {
    "name": "ipython",
    "version": 3
   },
   "file_extension": ".py",
   "mimetype": "text/x-python",
   "name": "python",
   "nbconvert_exporter": "python",
   "pygments_lexer": "ipython3",
   "version": "3.6.10"
  }
 },
 "nbformat": 4,
 "nbformat_minor": 4
}
