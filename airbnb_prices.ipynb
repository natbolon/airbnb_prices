{
 "cells": [
  {
   "cell_type": "markdown",
   "metadata": {},
   "source": [
    "# Airbnb NYC 2019\n"
   ]
  },
  {
   "cell_type": "code",
   "execution_count": null,
   "metadata": {},
   "outputs": [],
   "source": [
    "import pandas as pd\n",
    "import numpy as np\n",
    "\n",
    "import matplotlib.pyplot as plt\n",
    "import seaborn as sns"
   ]
  },
  {
   "cell_type": "markdown",
   "metadata": {},
   "source": [
    "Load data and perform first exploration"
   ]
  },
  {
   "cell_type": "code",
   "execution_count": null,
   "metadata": {},
   "outputs": [],
   "source": [
    "df_airbnb = pd.read_csv('./Data/AB_NYC_2019.csv')"
   ]
  },
  {
   "cell_type": "code",
   "execution_count": null,
   "metadata": {},
   "outputs": [],
   "source": [
    "df_airbnb.head()"
   ]
  },
  {
   "cell_type": "code",
   "execution_count": null,
   "metadata": {},
   "outputs": [],
   "source": [
    "print('Number of entries: {} \\nNumber of features: {}'.format(df_airbnb.shape[0], df_airbnb.shape[1]))"
   ]
  },
  {
   "cell_type": "markdown",
   "metadata": {},
   "source": [
    "A first look suggests that columns such as **id**, **name**, **host_id** and **host_name** can be discarded from the analysis. \n",
    "\n",
    "The column **name** could be used to incorporate some more features (keywords appearing in the name). This would be discarded on the first simple models."
   ]
  },
  {
   "cell_type": "code",
   "execution_count": null,
   "metadata": {},
   "outputs": [],
   "source": [
    "df_airbnb.isnull().sum()"
   ]
  },
  {
   "cell_type": "markdown",
   "metadata": {},
   "source": [
    "We have missing data for the following features:\n",
    "* name --> not a big deal, we can ignore it for the moment\n",
    "* host_name --> not a big deal, we will ignore this variable\n",
    "* last_review --> comes from entries without any review\n",
    "* reviews_per_month --> comes from entries without any review; we will replace it by 0"
   ]
  },
  {
   "cell_type": "code",
   "execution_count": null,
   "metadata": {},
   "outputs": [],
   "source": [
    "# replace NaN by 0 for column reviews per month\n",
    "df_airbnb.reviews_per_month.fillna(0, inplace=True)\n",
    "\n",
    "# drop features id, host_id and host_name\n",
    "df_airbnb.drop(['id', 'host_id', 'host_name'], axis=1, inplace=True)"
   ]
  },
  {
   "cell_type": "markdown",
   "metadata": {},
   "source": [
    "## First data exploration\n",
    "\n",
    "# describe sth here! "
   ]
  },
  {
   "cell_type": "markdown",
   "metadata": {},
   "source": [
    "Explore cases where there may be an error with the price. "
   ]
  },
  {
   "cell_type": "code",
   "execution_count": null,
   "metadata": {},
   "outputs": [],
   "source": [
    "df_airbnb[df_airbnb.price > 1000].sort_values('price')"
   ]
  },
  {
   "cell_type": "markdown",
   "metadata": {},
   "source": [
    "We will drop the cases with price = \\\\$0 since they may correspond to errors."
   ]
  },
  {
   "cell_type": "code",
   "execution_count": null,
   "metadata": {},
   "outputs": [],
   "source": [
    "df_airbnb.drop(df_airbnb[df_airbnb.price < 10]. index, axis=0, inplace=True)"
   ]
  },
  {
   "cell_type": "code",
   "execution_count": null,
   "metadata": {},
   "outputs": [],
   "source": [
    "plt.figure(figsize=(10,5))\n",
    "df_airbnb['price'].plot(kind='hist', bins=80,logx=True, title='Price distribution')\n",
    "plt.xlabel('Price $')\n",
    "plt.show()"
   ]
  },
  {
   "cell_type": "code",
   "execution_count": null,
   "metadata": {},
   "outputs": [],
   "source": [
    "df_airbnb['price'].describe()"
   ]
  },
  {
   "cell_type": "code",
   "execution_count": null,
   "metadata": {},
   "outputs": [],
   "source": [
    "def print_pct_price(price):\n",
    "    print('Appartments with price over ${}: {:.2f}%'.\\\n",
    "          format(price, 100 * len(df_airbnb[df_airbnb.price > price])/len(df_airbnb)))\n",
    "\n",
    "print_pct_price(200)\n",
    "print_pct_price(300)\n",
    "print_pct_price(500)\n",
    "print_pct_price(1000)"
   ]
  },
  {
   "cell_type": "code",
   "execution_count": null,
   "metadata": {},
   "outputs": [],
   "source": [
    "plt.figure(figsize=(10,5))\n",
    "df_airbnb[df_airbnb['price'] < 300].price.plot(kind='hist', bins=100,title='Price distribution')\n",
    "plt.xlabel('Price $')\n",
    "plt.show()"
   ]
  },
  {
   "cell_type": "markdown",
   "metadata": {},
   "source": [
    "Insights: \n",
    "* Mean price is \\\\$153 and median price is \\\\$106. This reflects large outliers that increase the mean price.\n",
    "* Min price is \\\\$10 while max price is \\\\$1k\n",
    "* Around 95% of the appartments have a price lower than \\\\$300. From these, a good amount concentrate in a range lower than \\\\$100. We can also observe some peaks around round prices (100, 150, etc.)\n",
    "* Appartments over \\\\$1k represent less than 0.5\\% of the cases."
   ]
  },
  {
   "cell_type": "code",
   "execution_count": null,
   "metadata": {},
   "outputs": [],
   "source": [
    "f, ax = plt.subplots(2,2, figsize=(20,12))\n",
    "ax = ax.flatten()\n",
    "\n",
    "df_airbnb.plot(kind='scatter', x='calculated_host_listings_count', y='price', ax=ax[0], \\\n",
    "               title='Price vs Number of properties per host')\n",
    "df_airbnb.plot(kind='scatter', x='number_of_reviews', y='price', ax=ax[1],\\\n",
    "              title='Price vs Number of reviews per property')\n",
    "df_airbnb.plot(kind='scatter', x='minimum_nights', y='price', ax=ax[2],\\\n",
    "              title='Price vs Number of min nights')\n",
    "df_airbnb.plot(kind='scatter', x='availability_365', y='price', ax=ax[3], \\\n",
    "              title='Price vs Availability')\n",
    "plt.show()"
   ]
  },
  {
   "cell_type": "code",
   "execution_count": null,
   "metadata": {},
   "outputs": [],
   "source": [
    "f, ax = plt.subplots(1,2, figsize=(20,5))\n",
    "ax = ax.flatten()\n",
    "\n",
    "sns.violinplot(data=df_airbnb[df_airbnb.price < 300], x='neighbourhood_group', y='price', ax=ax[0], \\\n",
    "               title='Price vs Neighbourhood')\n",
    "sns.violinplot(data=df_airbnb[df_airbnb.price < 300], x='room_type', y='price', ax=ax[1],\\\n",
    "              title='Price vs Type of room')\n",
    "plt.show()"
   ]
  },
  {
   "cell_type": "markdown",
   "metadata": {},
   "source": [
    "## TODO THINGS:\n",
    "\n",
    "* First models based on numerical and categorical data --> drop name, host_name\n"
   ]
  },
  {
   "cell_type": "code",
   "execution_count": null,
   "metadata": {},
   "outputs": [],
   "source": [
    "df_airbnb.dtypes"
   ]
  },
  {
   "cell_type": "code",
   "execution_count": null,
   "metadata": {},
   "outputs": [],
   "source": []
  }
 ],
 "metadata": {
  "kernelspec": {
   "display_name": "Python 3",
   "language": "python",
   "name": "python3"
  },
  "language_info": {
   "codemirror_mode": {
    "name": "ipython",
    "version": 3
   },
   "file_extension": ".py",
   "mimetype": "text/x-python",
   "name": "python",
   "nbconvert_exporter": "python",
   "pygments_lexer": "ipython3",
   "version": "3.6.10"
  }
 },
 "nbformat": 4,
 "nbformat_minor": 4
}
